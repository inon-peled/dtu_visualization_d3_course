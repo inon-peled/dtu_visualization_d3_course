{
 "cells": [
  {
   "cell_type": "markdown",
   "metadata": {},
   "source": [
    "# Imports"
   ]
  },
  {
   "cell_type": "code",
   "execution_count": 65,
   "metadata": {},
   "outputs": [],
   "source": [
    "import glob\n",
    "import functools\n",
    "import os\n",
    "import gzip\n",
    "import pandas as pd\n",
    "\n",
    "import matplotlib\n",
    "%matplotlib inline\n",
    "matplotlib.rcParams['figure.figsize'] = (20, 10)"
   ]
  },
  {
   "cell_type": "code",
   "execution_count": 83,
   "metadata": {},
   "outputs": [],
   "source": [
    "def for_d3(file):\n",
    "    idx = pd.Series(0, index=pd.date_range('2016-01-01', '2016-09-01', freq='H'), name='all_ts')\\\n",
    "        .asfreq('30Min', method='pad')\n",
    "    df = pd.read_csv(gzip.open(file), delimiter=',')\\\n",
    "        .assign(minute=lambda df: df.minute * 30)\\\n",
    "        .assign(time=lambda df: df.date.astype(str) + ' ' + df.hour.astype(str).str.zfill(2) + ':' + df.minute.astype(str).str.zfill(2))\\\n",
    "        [['time', 'dropoffs']]\\\n",
    "        .set_index('time')\n",
    "    return df\\\n",
    "        .join(idx, how='right')\\\n",
    "        .fillna(0)\\\n",
    "        [lambda df2: df2.index <= df.index.max()]\\\n",
    "        .reset_index()\\\n",
    "        .rename(columns={'index': 'time'})\\\n",
    "        .assign(dropoffs=lambda df: df.dropoffs.astype(int))\\\n",
    "        .drop('all_ts', axis=1)"
   ]
  },
  {
   "cell_type": "code",
   "execution_count": 87,
   "metadata": {},
   "outputs": [],
   "source": [
    "for f in glob.glob(os.path.join('data', 'dropoffs*0.003.csv.gz')):\n",
    "    for_d3(f).to_csv(os.path.join('for_d3', os.path.basename(f)[:-3]), index=False)"
   ]
  },
  {
   "cell_type": "code",
   "execution_count": 84,
   "metadata": {},
   "outputs": [
    {
     "data": {
      "text/html": [
       "<div>\n",
       "<style scoped>\n",
       "    .dataframe tbody tr th:only-of-type {\n",
       "        vertical-align: middle;\n",
       "    }\n",
       "\n",
       "    .dataframe tbody tr th {\n",
       "        vertical-align: top;\n",
       "    }\n",
       "\n",
       "    .dataframe thead th {\n",
       "        text-align: right;\n",
       "    }\n",
       "</style>\n",
       "<table border=\"1\" class=\"dataframe\">\n",
       "  <thead>\n",
       "    <tr style=\"text-align: right;\">\n",
       "      <th></th>\n",
       "      <th>time</th>\n",
       "      <th>dropoffs</th>\n",
       "    </tr>\n",
       "  </thead>\n",
       "  <tbody>\n",
       "    <tr>\n",
       "      <th>0</th>\n",
       "      <td>2016-01-01 00:00:00</td>\n",
       "      <td>72</td>\n",
       "    </tr>\n",
       "    <tr>\n",
       "      <th>1</th>\n",
       "      <td>2016-01-01 00:30:00</td>\n",
       "      <td>94</td>\n",
       "    </tr>\n",
       "    <tr>\n",
       "      <th>2</th>\n",
       "      <td>2016-01-01 01:00:00</td>\n",
       "      <td>106</td>\n",
       "    </tr>\n",
       "    <tr>\n",
       "      <th>3</th>\n",
       "      <td>2016-01-01 01:30:00</td>\n",
       "      <td>109</td>\n",
       "    </tr>\n",
       "    <tr>\n",
       "      <th>4</th>\n",
       "      <td>2016-01-01 02:00:00</td>\n",
       "      <td>90</td>\n",
       "    </tr>\n",
       "  </tbody>\n",
       "</table>\n",
       "</div>"
      ],
      "text/plain": [
       "                 time  dropoffs\n",
       "0 2016-01-01 00:00:00        72\n",
       "1 2016-01-01 00:30:00        94\n",
       "2 2016-01-01 01:00:00       106\n",
       "3 2016-01-01 01:30:00       109\n",
       "4 2016-01-01 02:00:00        90"
      ]
     },
     "execution_count": 84,
     "metadata": {},
     "output_type": "execute_result"
    }
   ],
   "source": [
    "for_d3(os.path.join('data', 'dropoffs_bowery_ballroom_0.003.csv.gz')).head()"
   ]
  }
 ],
 "metadata": {
  "kernelspec": {
   "display_name": "Python 3",
   "language": "python",
   "name": "python3"
  },
  "language_info": {
   "codemirror_mode": {
    "name": "ipython",
    "version": 3
   },
   "file_extension": ".py",
   "mimetype": "text/x-python",
   "name": "python",
   "nbconvert_exporter": "python",
   "pygments_lexer": "ipython3",
   "version": "3.5.2"
  }
 },
 "nbformat": 4,
 "nbformat_minor": 2
}
